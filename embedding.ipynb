{
 "cells": [
  {
   "cell_type": "code",
   "execution_count": 1,
   "id": "9a76b471",
   "metadata": {},
   "outputs": [],
   "source": [
    "from tensorflow.keras.preprocessing.text import one_hot"
   ]
  },
  {
   "cell_type": "code",
   "execution_count": 2,
   "id": "a6716038",
   "metadata": {},
   "outputs": [],
   "source": [
    "sent=[\n",
    "    'the glass of milk',\n",
    "    'the cup of tea',\n",
    "    'I am a good boy',\n",
    "    'I am a good developer',\n",
    "    'understand the meaning of words',\n",
    "    'your videos are good',\n",
    "]"
   ]
  },
  {
   "cell_type": "code",
   "execution_count": 3,
   "id": "b17181b8",
   "metadata": {},
   "outputs": [
    {
     "data": {
      "text/plain": [
       "['the glass of milk',\n",
       " 'the cup of tea',\n",
       " 'I am a good boy',\n",
       " 'I am a good developer',\n",
       " 'understand the meaning of words',\n",
       " 'your videos are good']"
      ]
     },
     "execution_count": 3,
     "metadata": {},
     "output_type": "execute_result"
    }
   ],
   "source": [
    "sent"
   ]
  },
  {
   "cell_type": "code",
   "execution_count": 4,
   "id": "58e83497",
   "metadata": {},
   "outputs": [],
   "source": [
    "##Define the vocabulary size\n",
    "voc_size=10000"
   ]
  },
  {
   "cell_type": "code",
   "execution_count": 6,
   "id": "7a21f598",
   "metadata": {},
   "outputs": [
    {
     "data": {
      "text/plain": [
       "[[5168, 8796, 4463, 8064],\n",
       " [5168, 3651, 4463, 2617],\n",
       " [6780, 8764, 6657, 2430, 7711],\n",
       " [6780, 8764, 6657, 2430, 1526],\n",
       " [8918, 5168, 5564, 4463, 9717],\n",
       " [530, 130, 1909, 2430]]"
      ]
     },
     "execution_count": 6,
     "metadata": {},
     "output_type": "execute_result"
    }
   ],
   "source": [
    "one_hot_repr=[one_hot(words, voc_size) for words in sent]\n",
    "one_hot_repr"
   ]
  },
  {
   "cell_type": "code",
   "execution_count": 8,
   "id": "89c5c0b1",
   "metadata": {},
   "outputs": [],
   "source": [
    "##Word Embedding Representation\n",
    "from tensorflow.keras.layers import Embedding\n",
    "from tensorflow.keras.preprocessing.sequence import pad_sequences\n",
    "from tensorflow.keras.models import Sequential"
   ]
  },
  {
   "cell_type": "code",
   "execution_count": 9,
   "id": "3e46b1b0",
   "metadata": {},
   "outputs": [],
   "source": [
    "import numpy as np"
   ]
  },
  {
   "cell_type": "code",
   "execution_count": 10,
   "id": "5bace28c",
   "metadata": {},
   "outputs": [
    {
     "name": "stdout",
     "output_type": "stream",
     "text": [
      "[[   0    0    0    0 5168 8796 4463 8064]\n",
      " [   0    0    0    0 5168 3651 4463 2617]\n",
      " [   0    0    0 6780 8764 6657 2430 7711]\n",
      " [   0    0    0 6780 8764 6657 2430 1526]\n",
      " [   0    0    0 8918 5168 5564 4463 9717]\n",
      " [   0    0    0    0  530  130 1909 2430]]\n"
     ]
    }
   ],
   "source": [
    "sent_length=8\n",
    "embedding_docs=pad_sequences(one_hot_repr,padding='pre',maxlen=sent_length)\n",
    "print(embedding_docs)\n"
   ]
  }
 ],
 "metadata": {
  "kernelspec": {
   "display_name": "tf_env",
   "language": "python",
   "name": "python3"
  },
  "language_info": {
   "codemirror_mode": {
    "name": "ipython",
    "version": 3
   },
   "file_extension": ".py",
   "mimetype": "text/x-python",
   "name": "python",
   "nbconvert_exporter": "python",
   "pygments_lexer": "ipython3",
   "version": "3.10.18"
  }
 },
 "nbformat": 4,
 "nbformat_minor": 5
}
